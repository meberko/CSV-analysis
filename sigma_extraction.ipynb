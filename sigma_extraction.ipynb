{
 "cells": [
  {
   "cell_type": "markdown",
   "metadata": {},
   "source": [
    "# Imports and Constants"
   ]
  },
  {
   "cell_type": "code",
   "execution_count": 1,
   "metadata": {},
   "outputs": [],
   "source": [
    "import numpy as np\n",
    "import matplotlib.pyplot as plt\n",
    "from matplotlib.ticker import (MultipleLocator, FormatStrFormatter,\n",
    "                               AutoMinorLocator)\n",
    "from utils import CSV_Handler, interpolate, create_datasheet\n",
    "from scipy.interpolate import interp1d\n",
    "\n",
    "EPS0 = 8.8541878128e-14   # permittivity of free space in F/cm\n",
    "C    = 2.9979245800e10    # speed of light in cm/s\n",
    "PI   = np.pi              # pi\n",
    "#print(1/EPS0*C)"
   ]
  },
  {
   "cell_type": "markdown",
   "metadata": {},
   "source": [
    "# Pull in data"
   ]
  },
  {
   "cell_type": "code",
   "execution_count": 50,
   "metadata": {},
   "outputs": [
    {
     "name": "stdout",
     "output_type": "stream",
     "text": [
      "Reading data from ./data/BSCCO/Bi2212-opt-6k.dat\n",
      "Reading data from ./data/BSCCO/Bi2212-opt-50k.dat\n",
      "Reading data from ./data/BSCCO/Bi2212-opt-80k.dat\n",
      "Reading data from ./data/BSCCO/Bi2212-opt-100k.dat\n",
      "Reading data from ./data/BSCCO/Bi2212-opt-200k.dat\n",
      "Reading data from ./data/BSCCO/Bi2212-opt-295k.dat\n",
      "Reading data from ./data/BSCCO/Kovaleva_2004_k_s1c_10K.csv\n",
      "Reading data from ./data/BSCCO/Kovaleva_2004_k_s1c_100K.csv\n"
     ]
    }
   ],
   "source": [
    "Bi2212_data = {}\n",
    "\n",
    "csvh = CSV_Handler('Bi2212-opt-6k.dat', '6K', Bi2212_data,\n",
    "                   datadir=\"./data/BSCCO\", delimiter='\\t', opt_consts = ['s1ab','s2ab'])\n",
    "csvh = CSV_Handler('Bi2212-opt-50k.dat', '50K', Bi2212_data,\n",
    "                   datadir=\"./data/BSCCO\", delimiter='\\t', opt_consts = ['s1ab','s2ab'])\n",
    "csvh = CSV_Handler('Bi2212-opt-80k.dat', '80K', Bi2212_data,\n",
    "                   datadir=\"./data/BSCCO\", delimiter='\\t', opt_consts = ['s1ab','s2ab'])\n",
    "csvh = CSV_Handler('Bi2212-opt-100k.dat', '100K', Bi2212_data,\n",
    "                   datadir=\"./data/BSCCO\", delimiter=' ', opt_consts = ['s1ab','s2ab'])\n",
    "csvh = CSV_Handler('Bi2212-opt-200k.dat', '200K', Bi2212_data,\n",
    "                   datadir=\"./data/BSCCO\", delimiter='\\t', opt_consts = ['s1ab','s2ab'])\n",
    "csvh = CSV_Handler('Bi2212-opt-295k.dat', '295K', Bi2212_data,\n",
    "                   datadir=\"./data/BSCCO\", delimiter='\\t', opt_consts = ['s1ab','s2ab'])\n",
    "csvh = CSV_Handler('Kovaleva_2004_k_s1c_10K.csv', '6K', Bi2212_data,\n",
    "                   datadir=\"./data/BSCCO\", delimiter=' ', opt_consts = ['s1c'])\n",
    "csvh = CSV_Handler('Kovaleva_2004_k_s1c_100K.csv', '100K', Bi2212_data,\n",
    "                   datadir=\"./data/BSCCO\", delimiter=' ', opt_consts = ['s1c'])\n"
   ]
  },
  {
   "cell_type": "markdown",
   "metadata": {},
   "source": [
    "## Convert to numpy arrays"
   ]
  },
  {
   "cell_type": "code",
   "execution_count": 51,
   "metadata": {},
   "outputs": [],
   "source": [
    "for t in Bi2212_data.keys():\n",
    "    for x in Bi2212_data[t].keys():\n",
    "        Bi2212_data[t][x] = np.array(Bi2212_data[t][x])"
   ]
  },
  {
   "cell_type": "markdown",
   "metadata": {},
   "source": [
    "## Compute and interpolate all optical constants from this data"
   ]
  },
  {
   "cell_type": "code",
   "execution_count": 52,
   "metadata": {
    "scrolled": false
   },
   "outputs": [
    {
     "name": "stdout",
     "output_type": "stream",
     "text": [
      "Temp 6K: e1ab=0 at 6556.84\n",
      "Temp 50K: e1ab=0 at 6556.84\n",
      "Temp 80K: e1ab=0 at 6510.56\n",
      "Temp 100K: e1ab=0 at 6510.56\n",
      "Temp 200K: e1ab=0 at 6479.7\n",
      "Temp 295K: e1ab=0 at 6464.28\n",
      "\n"
     ]
    }
   ],
   "source": [
    "for temp in Bi2212_data.keys():\n",
    "    FACTOR = 1/(2*PI*EPS0*C)\n",
    "    \n",
    "    k = Bi2212_data[temp][\"k_s1ab\"]\n",
    "    s1 = Bi2212_data[temp][\"s1ab\"]\n",
    "    s2 = Bi2212_data[temp][\"s2ab\"]\n",
    "    \n",
    "    sigma = s1+s2*1j\n",
    "    e1 = -FACTOR*s2/k+1\n",
    "    e2 =  FACTOR*s1/k\n",
    "    N = np.sqrt(e1+e2*1j)\n",
    "    R = np.abs((1-N)/(1+N))**2\n",
    "    \n",
    "    Bi2212_data[temp][\"k_e1ab\"] = k\n",
    "    Bi2212_data[temp][\"e1ab\"] = e1\n",
    "    \n",
    "    Bi2212_data[temp][\"k_e2ab\"] = k\n",
    "    Bi2212_data[temp][\"e2ab\"] = e2\n",
    "    \n",
    "    Bi2212_data[temp][\"k_nab\"] = k\n",
    "    Bi2212_data[temp][\"nab\"] = N.real\n",
    "    \n",
    "    Bi2212_data[temp][\"k_kab\"] = k\n",
    "    Bi2212_data[temp][\"kab\"] = N.imag\n",
    "    \n",
    "    Bi2212_data[temp][\"k_Rab\"] = k\n",
    "    Bi2212_data[temp][\"Rab\"] = R\n",
    "    \n",
    "    Bi2212_data[temp][\"k_tauab\"] = k\n",
    "    Bi2212_data[temp][\"tauab\"] = (4*PI/(16000**2))*1/((1/sigma).real)\n",
    "    \n",
    "    print(\"Temp {}: e1ab=0 at {}\".format(temp,k[np.argmin(np.abs(e1))]))\n",
    "print()\n",
    "    "
   ]
  },
  {
   "cell_type": "code",
   "execution_count": 53,
   "metadata": {},
   "outputs": [
    {
     "name": "stdout",
     "output_type": "stream",
     "text": [
      "\n"
     ]
    }
   ],
   "source": [
    "for temp in Bi2212_data.keys():\n",
    "    FACTOR = 1/(2*PI*EPS0*C)\n",
    "    if \"k_s1c\" in Bi2212_data[temp].keys():\n",
    "        k = Bi2212_data[temp][\"k_s1c\"]\n",
    "        s1 = Bi2212_data[temp][\"s1c\"]\n",
    "    \n",
    "        e2 =  FACTOR*s1/k\n",
    "\n",
    "        Bi2212_data[temp][\"k_e2c\"] = k\n",
    "        Bi2212_data[temp][\"e2c\"] = e2\n",
    "    \n",
    "print()"
   ]
  },
  {
   "cell_type": "code",
   "execution_count": 54,
   "metadata": {},
   "outputs": [
    {
     "name": "stdout",
     "output_type": "stream",
     "text": [
      "6K\n",
      "\tInterpolating s1ab\n",
      "\tInterpolating s2ab\n",
      "\tInterpolating s1c\n",
      "\tInterpolating e1ab\n",
      "\tInterpolating e2ab\n",
      "\tInterpolating nab\n",
      "\tInterpolating kab\n",
      "\tInterpolating Rab\n",
      "\tInterpolating tauab\n",
      "\tInterpolating e2c\n",
      "50K\n",
      "\tInterpolating s1ab\n",
      "\tInterpolating s2ab\n",
      "\tInterpolating e1ab\n",
      "\tInterpolating e2ab\n",
      "\tInterpolating nab\n",
      "\tInterpolating kab\n",
      "\tInterpolating Rab\n",
      "\tInterpolating tauab\n",
      "80K\n",
      "\tInterpolating s1ab\n",
      "\tInterpolating s2ab\n",
      "\tInterpolating e1ab\n",
      "\tInterpolating e2ab\n",
      "\tInterpolating nab\n",
      "\tInterpolating kab\n",
      "\tInterpolating Rab\n",
      "\tInterpolating tauab\n",
      "100K\n",
      "\tInterpolating s1ab\n",
      "\tInterpolating s2ab\n",
      "\tInterpolating s1c\n",
      "\tInterpolating e1ab\n",
      "\tInterpolating e2ab\n",
      "\tInterpolating nab\n",
      "\tInterpolating kab\n",
      "\tInterpolating Rab\n",
      "\tInterpolating tauab\n",
      "\tInterpolating e2c\n",
      "200K\n",
      "\tInterpolating s1ab\n",
      "\tInterpolating s2ab\n",
      "\tInterpolating e1ab\n",
      "\tInterpolating e2ab\n",
      "\tInterpolating nab\n",
      "\tInterpolating kab\n",
      "\tInterpolating Rab\n",
      "\tInterpolating tauab\n",
      "295K\n",
      "\tInterpolating s1ab\n",
      "\tInterpolating s2ab\n",
      "\tInterpolating e1ab\n",
      "\tInterpolating e2ab\n",
      "\tInterpolating nab\n",
      "\tInterpolating kab\n",
      "\tInterpolating Rab\n",
      "\tInterpolating tauab\n"
     ]
    }
   ],
   "source": [
    "interp_fxns = interpolate(Bi2212_data)"
   ]
  },
  {
   "cell_type": "markdown",
   "metadata": {},
   "source": [
    "# Create datasheets"
   ]
  },
  {
   "cell_type": "code",
   "execution_count": 5,
   "metadata": {},
   "outputs": [
    {
     "name": "stdout",
     "output_type": "stream",
     "text": [
      "Created datasheet for ['e1ab'] (T=6K) at ./Tu_2002_Bi2212_k_e1ab_6K.dat\n",
      "Created datasheet for ['e2ab'] (T=6K) at ./Tu_2002_Bi2212_k_e2ab_6K.dat\n",
      "Created datasheet for ['e1ab'] (T=100K) at ./Tu_2002_Bi2212_k_e1ab_100K.dat\n",
      "Created datasheet for ['e2ab'] (T=100K) at ./Tu_2002_Bi2212_k_e2ab_100K.dat\n"
     ]
    }
   ],
   "source": [
    "ks=np.arange(100,18000,1)\n",
    "create_datasheet(data_dir=\"./\", source=\"Tu_2002\",delimiter=' ',\\\n",
    "                    ks=ks, temp=\"6K\", opts=[\"e1ab\"], interp_fxn_obj=interp_fxns)\n",
    "create_datasheet(data_dir=\"./\", source=\"Tu_2002\",delimiter=' ',\\\n",
    "                    ks=ks, temp=\"6K\", opts=[\"e2ab\"], interp_fxn_obj=interp_fxns)\n",
    "create_datasheet(data_dir=\"./\", source=\"Tu_2002\",delimiter=' ',\\\n",
    "                    ks=ks, temp=\"100K\", opts=[\"e1ab\"], interp_fxn_obj=interp_fxns)\n",
    "create_datasheet(data_dir=\"./\", source=\"Tu_2002\",delimiter=' ',\\\n",
    "                    ks=ks, temp=\"100K\", opts=[\"e2ab\"], interp_fxn_obj=interp_fxns)"
   ]
  },
  {
   "cell_type": "code",
   "execution_count": 62,
   "metadata": {},
   "outputs": [
    {
     "name": "stdout",
     "output_type": "stream",
     "text": [
      "Created datasheet for ['e2c'] (T=6K) at ./Kovaleva_2004_Bi2212_k_e2c_6K.dat\n",
      "Created datasheet for ['e2c'] (T=100K) at ./Kovaleva_2004_Bi2212_k_e2c_100K.dat\n"
     ]
    }
   ],
   "source": [
    "ks=np.arange(150,650,1)\n",
    "create_datasheet(data_dir=\"./\", source=\"Kovaleva_2004\",delimiter=' ',\\\n",
    "                    ks=ks, temp=\"6K\", opts=[\"e2c\"], interp_fxn_obj=interp_fxns)\n",
    "create_datasheet(data_dir=\"./\", source=\"Kovaleva_2004\",delimiter=' ',\\\n",
    "                    ks=ks, temp=\"100K\", opts=[\"e2c\"], interp_fxn_obj=interp_fxns)"
   ]
  },
  {
   "cell_type": "markdown",
   "metadata": {},
   "source": [
    "# Extra plots and whatnot"
   ]
  },
  {
   "cell_type": "code",
   "execution_count": 6,
   "metadata": {},
   "outputs": [],
   "source": [
    "from IPython.display import Image\n",
    "#Image(\"/home/meberko/Pictures/Screenshot from 2020-05-14 15-05-25.png\")"
   ]
  },
  {
   "cell_type": "code",
   "execution_count": 59,
   "metadata": {},
   "outputs": [
    {
     "data": {
      "image/png": "[encoded data removed]",
      "text/plain": [
       "<Figure size 432x288 with 1 Axes>"
      ]
     },
     "metadata": {
      "needs_background": "light"
     },
     "output_type": "display_data"
    }
   ],
   "source": [
    "opt=\"e2c\"; ks=np.arange(100,650,0.1);\n",
    "for temp in interp_fxns.keys():\n",
    "    if opt in interp_fxns[temp].keys():\n",
    "        plt.plot(ks,interp_fxns[temp][opt](ks),label=temp)\n",
    "plt.axis([150,650,0,10]);\n",
    "#plt.xscale(\"log\")\n",
    "plt.legend();\n"
   ]
  },
  {
   "cell_type": "code",
   "execution_count": null,
   "metadata": {},
   "outputs": [],
   "source": []
  }
 ],
 "metadata": {
  "kernelspec": {
   "display_name": "Python 3",
   "language": "python",
   "name": "python3"
  },
  "language_info": {
   "codemirror_mode": {
    "name": "ipython",
    "version": 3
   },
   "file_extension": ".py",
   "mimetype": "text/x-python",
   "name": "python",
   "nbconvert_exporter": "python",
   "pygments_lexer": "ipython3",
   "version": "3.7.6"
  },
  "toc": {
   "base_numbering": 1,
   "nav_menu": {},
   "number_sections": true,
   "sideBar": true,
   "skip_h1_title": false,
   "title_cell": "Table of Contents",
   "title_sidebar": "Contents",
   "toc_cell": false,
   "toc_position": {},
   "toc_section_display": true,
   "toc_window_display": false
  }
 },
 "nbformat": 4,
 "nbformat_minor": 4
}
