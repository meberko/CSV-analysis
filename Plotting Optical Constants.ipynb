{
 "cells": [
  {
   "cell_type": "code",
   "execution_count": 31,
   "metadata": {},
   "outputs": [],
   "source": [
    "import numpy as np\n",
    "import matplotlib.pyplot as plt\n",
    "import csv\n",
    "\n",
    "from CSV_Handler import CSV_Handler\n",
    "from scipy.interpolate import interp1d"
   ]
  },
  {
   "cell_type": "code",
   "execution_count": 32,
   "metadata": {},
   "outputs": [],
   "source": [
    "data, interp_fxn = {},{}\n",
    "\n",
    "\"\"\"\n",
    "csvh = CSV_Handler('Basov_BSCCO2212_10K.csv',  '10K', data, opt_consts = ['e1ab','e2ab'])\n",
    "csvh = CSV_Handler('Basov_BSCCO2212_50K.csv',  '50K', data, opt_consts = ['e1ab','e2ab'])\n",
    "csvh = CSV_Handler('Basov_BSCCO2212_80K.csv',  '80K', data, opt_consts = ['e1ab','e2ab'])    \n",
    "csvh = CSV_Handler('Basov_BSCCO2212_100K.csv', '100K', data, opt_consts = ['e1ab','e2ab'])   \n",
    "csvh = CSV_Handler('Basov_BSCCO2212_200K.csv', '200K', data, opt_consts = ['e1ab','e2ab'])    \n",
    "csvh = CSV_Handler('Basov_BSCCO2212_295K.csv', '295K', data, opt_consts = ['e1ab','e2ab'])\n",
    "csvh = CSV_Handler('Bi2212_fit_e1_6K.csv', '10K', data, opt_consts = ['e1c'])\n",
    "csvh = CSV_Handler('Bi2212_fit_e2_6K.csv', '10K', data, opt_consts = ['e2c'])\n",
    "csvh = CSV_Handler('Bi2212_fit_e1_100K.csv', '100K', data, opt_consts = ['e1c'])\n",
    "csvh = CSV_Handler('Bi2212_fit_e2_100K.csv', '100K', data, opt_consts = ['e2c'])\n",
    "\"\"\"\n",
    "csvh = CSV_Handler('Bi2212_k_Tu_e1ab_e2ab_Tajima_e1c_e2c_10K.csv', '10K', data, datadir=\"./Collated_Data/\", opt_consts = ['e1ab','e2ab','e1c','e2c'])\n",
    "csvh = CSV_Handler('Bi2212_k_Tu_e1ab_e2ab_Tajima_e1c_e2c_300K.csv', '300K', data, datadir=\"./Collated_Data/\", opt_consts = ['e1ab','e2ab','e1c','e2c'])\n"
   ]
  },
  {
   "cell_type": "code",
   "execution_count": 33,
   "metadata": {},
   "outputs": [],
   "source": [
    "def show_data_avail(data):\n",
    "    for temp in data.keys():\n",
    "        print(temp+':')\n",
    "        for oc in data[temp].keys():\n",
    "            if oc[:2]!=\"k_\":\n",
    "                print(\"\\t{}\".format(oc))\n",
    "\n",
    "def calculate_loss(data):\n",
    "    for temp in data.keys():\n",
    "        directions = []\n",
    "        for oc in data[temp].keys():\n",
    "            if \"k_\" not in oc and \"loss_\" not in oc:\n",
    "                d = oc[2:]\n",
    "                if d not in directions:\n",
    "                    directions.append(d)\n",
    "        for d in directions:\n",
    "            e1 = np.array(data[temp]['e1'+d])\n",
    "            e2 = np.array(data[temp]['e2'+d])\n",
    "            eps = e1+1j*e2\n",
    "            loss = np.imag(-1/eps)\n",
    "            data[temp]['loss_'+d] = loss\n",
    "calculate_loss(data)"
   ]
  },
  {
   "cell_type": "code",
   "execution_count": 68,
   "metadata": {
    "scrolled": true
   },
   "outputs": [],
   "source": [
    "def plot_opt_consts(data,opt_consts=['e1ab'],temps = None,axis=None, save=False, logx=False, logy=False):\n",
    "    NAME_DICT = { 'e1ab': '\\epsilon_{1ab}', 'e2ab': '\\epsilon_{2ab}', 'e1c': '\\epsilon_{1c}', 'e2c': '\\epsilon_{2c}'}\n",
    "    fig = plt.figure()\n",
    "    ocs = []\n",
    "    if logx:\n",
    "        plt.xscale('log')\n",
    "    if logy:\n",
    "        plt.yscale('symlog')\n",
    "    if temps is None:\n",
    "        temps = data.keys()\n",
    "    for temp in temps:\n",
    "        for oc in opt_consts:\n",
    "            lab = '${}$('.format(NAME_DICT[oc])+temp+')'\n",
    "            x_data, y_data = data[temp]['k_'+oc], data[temp][oc]\n",
    "            f_interp = interp1d(x_data, y_data, kind = 'cubic')\n",
    "            x_interp = np.linspace(np.min(x_data), np.max(x_data), 10*len(x_data))\n",
    "            ocs.append(f_interp(x_interp))\n",
    "            plt.plot(x_interp, f_interp(x_interp), label=lab)\n",
    "\n",
    "    plt.legend()\n",
    "    plt.xlabel(\"k (cm$^{-1}$)\")\n",
    "    plt.ylabel(\"${}$\".format(NAME_DICT[opt_consts[0]]))\n",
    "    plt.fill_between(x_interp,-1e7,40, color=\"#9BFF8B\", where=ocs[0]*ocs[1]<0)\n",
    "    if axis is not None:\n",
    "        plt.axis(axis)\n",
    "    fname = \"{}_{}.png\".format('_'.join(opt_consts), '_'.join(temps))\n",
    "    if save:\n",
    "        plt.savefig(fname, dpi=300)\n"
   ]
  },
  {
   "cell_type": "code",
   "execution_count": 69,
   "metadata": {
    "scrolled": true
   },
   "outputs": [],
   "source": [
    "def plot_loss(data, directions=['ab'], temps=None, axis=None, save=False, logx=False, logy=False):\n",
    "    fig = plt.figure()\n",
    "    if logx:\n",
    "        plt.xscale('log')\n",
    "    if logy:\n",
    "        plt.yscale('symlog')\n",
    "    if temps is None:\n",
    "        temps = data.keys()\n",
    "    for temp in temps:\n",
    "        for direction in directions:\n",
    "            lab = '$-\\Im(\\epsilon_{'+direction+'}^{-1})$('+temp+')'\n",
    "            plt.plot(data[temp]['k_e1'+direction], data[temp][\"loss_\"+direction], label=lab)\n",
    "\n",
    "    plt.legend()\n",
    "    plt.xlabel(\"k (cm$^{-1}$)\")\n",
    "    plt.ylabel(\"$-\\Im(\\epsilon^{-1})$\")\n",
    "    if axis is not None:\n",
    "        plt.axis(axis)\n",
    "    fname = \"{}_{}.png\".format('loss_'+'_'.join(directions), '_'.join(temps))\n",
    "    if save:\n",
    "        plt.savefig(fname, dpi=300)\n"
   ]
  },
  {
   "cell_type": "code",
   "execution_count": 73,
   "metadata": {
    "scrolled": false
   },
   "outputs": [
    {
     "data": {
      "image/png": "[encoded data removed]",
      "text/plain": [
       "<Figure size 432x288 with 1 Axes>"
      ]
     },
     "metadata": {
      "needs_background": "light"
     },
     "output_type": "display_data"
    },
    {
     "data": {
      "image/png": "[encoded data removed]",
      "text/plain": [
       "<Figure size 432x288 with 1 Axes>"
      ]
     },
     "metadata": {
      "needs_background": "light"
     },
     "output_type": "display_data"
    }
   ],
   "source": [
    "plot_opt_consts(data, opt_consts=['e1ab','e1c'], temps=['10K'], axis=[5,1000,-1e7,40], logx=True, logy=True, save=True)\n",
    "plot_loss(data, directions=['ab','c'], temps=['10K'], axis=[5,1000,0,1], logx=True, save = False)"
   ]
  },
  {
   "cell_type": "code",
   "execution_count": 45,
   "metadata": {},
   "outputs": [],
   "source": [
    "def save_data(data, source='', material='BSCCO', opt_consts = ['e1ab'], temps = None):\n",
    "    if temps is None:\n",
    "        temps = list(data.keys())\n",
    "    labels = ['k'] + opt_consts\n",
    "    for temp in temps:\n",
    "        fname = '_'.join([source, material, '_'.join(labels), temp])\n",
    "        with open(fname, 'w') as csvf:\n",
    "            writer = csv.writer(csvf, delimiter=',')\n",
    "            nrows = len(data[temp]['k_'+opt_consts[0]])\n",
    "            writer.writerow(labels)\n",
    "            for i in range(nrows):\n",
    "                row = []\n",
    "                row.append(data[temp]['k_'+opt_consts[0]][i])\n",
    "                for oc in opt_consts:\n",
    "                    row.append(data[temp][oc][i])\n",
    "                writer.writerow(row)\n",
    "    \n",
    "save_data(data,\n",
    "          source = \"Zelenzy_2002\",\n",
    "          material = \"BSCCO2212\",\n",
    "          opt_consts = ['e1ab', 'e2ab'])"
   ]
  },
  {
   "cell_type": "code",
   "execution_count": null,
   "metadata": {},
   "outputs": [],
   "source": []
  }
 ],
 "metadata": {
  "kernelspec": {
   "display_name": "Python 3",
   "language": "python",
   "name": "python3"
  },
  "language_info": {
   "codemirror_mode": {
    "name": "ipython",
    "version": 3
   },
   "file_extension": ".py",
   "mimetype": "text/x-python",
   "name": "python",
   "nbconvert_exporter": "python",
   "pygments_lexer": "ipython3",
   "version": "3.7.6"
  }
 },
 "nbformat": 4,
 "nbformat_minor": 4
}
